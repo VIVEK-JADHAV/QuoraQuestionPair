{
  "nbformat": 4,
  "nbformat_minor": 0,
  "metadata": {
    "colab": {
      "name": "QuoraModelAndEvaluation.ipynb",
      "provenance": [],
      "toc_visible": true,
      "mount_file_id": "1Xhkf6vc3Sn4Ju5dR4O8EIqFegku_unck",
      "authorship_tag": "ABX9TyNM535kMjWYZGP26JJ0qq/U",
      "include_colab_link": true
    },
    "kernelspec": {
      "name": "python3",
      "display_name": "Python 3"
    },
    "accelerator": "GPU"
  },
  "cells": [
    {
      "cell_type": "markdown",
      "metadata": {
        "id": "view-in-github",
        "colab_type": "text"
      },
      "source": [
        "<a href=\"https://colab.research.google.com/github/VIVEK-JADHAV/QuoraQuestionPair/blob/main/QuoraModelAndEvaluation.ipynb\" target=\"_parent\"><img src=\"https://colab.research.google.com/assets/colab-badge.svg\" alt=\"Open In Colab\"/></a>"
      ]
    },
    {
      "cell_type": "code",
      "metadata": {
        "colab": {
          "base_uri": "https://localhost:8080/"
        },
        "id": "ED4KeanplTMv",
        "outputId": "5a8c3d7b-952e-45ef-a1c8-b31fb17cb42f"
      },
      "source": [
        "#Importing important libraries\r\n",
        "import numpy as np\r\n",
        "import pandas as pd\r\n",
        "import os\r\n",
        "import shutil\r\n",
        "import pickle\r\n",
        "import seaborn as sns\r\n",
        "from nltk.corpus import stopwords\r\n",
        "import nltk\r\n",
        "nltk.download('stopwords')\r\n",
        "\r\n",
        "from wordcloud import WordCloud\r\n",
        "import matplotlib.pyplot as plt\r\n",
        "import re\r\n",
        "import tensorflow as tf\r\n",
        "from tensorflow.keras.layers import Dense,Input,Activation,Flatten,Embedding,LSTM,Lambda\r\n",
        "from tensorflow.keras.models import Model\r\n",
        "import tensorflow.keras.backend as K\r\n",
        "\r\n",
        "import warnings\r\n",
        "warnings.filterwarnings('ignore')\r\n",
        "\r\n",
        "tf.config.run_functions_eagerly(True)"
      ],
      "execution_count": null,
      "outputs": [
        {
          "output_type": "stream",
          "text": [
            "[nltk_data] Downloading package stopwords to /root/nltk_data...\n",
            "[nltk_data]   Unzipping corpora/stopwords.zip.\n"
          ],
          "name": "stdout"
        }
      ]
    },
    {
      "cell_type": "code",
      "metadata": {
        "colab": {
          "base_uri": "https://localhost:8080/",
          "height": 204
        },
        "id": "kWSJzITdmVPW",
        "outputId": "6b4406e1-8ffb-4060-e5eb-2f129c3a326d"
      },
      "source": [
        "#Loading the train data \r\n",
        "train=pd.read_csv('/content/data/train.csv')\r\n",
        "train.head()\r\n"
      ],
      "execution_count": null,
      "outputs": [
        {
          "output_type": "execute_result",
          "data": {
            "text/html": [
              "<div>\n",
              "<style scoped>\n",
              "    .dataframe tbody tr th:only-of-type {\n",
              "        vertical-align: middle;\n",
              "    }\n",
              "\n",
              "    .dataframe tbody tr th {\n",
              "        vertical-align: top;\n",
              "    }\n",
              "\n",
              "    .dataframe thead th {\n",
              "        text-align: right;\n",
              "    }\n",
              "</style>\n",
              "<table border=\"1\" class=\"dataframe\">\n",
              "  <thead>\n",
              "    <tr style=\"text-align: right;\">\n",
              "      <th></th>\n",
              "      <th>id</th>\n",
              "      <th>qid1</th>\n",
              "      <th>qid2</th>\n",
              "      <th>question1</th>\n",
              "      <th>question2</th>\n",
              "      <th>is_duplicate</th>\n",
              "    </tr>\n",
              "  </thead>\n",
              "  <tbody>\n",
              "    <tr>\n",
              "      <th>0</th>\n",
              "      <td>0</td>\n",
              "      <td>1</td>\n",
              "      <td>2</td>\n",
              "      <td>What is the step by step guide to invest in sh...</td>\n",
              "      <td>What is the step by step guide to invest in sh...</td>\n",
              "      <td>0</td>\n",
              "    </tr>\n",
              "    <tr>\n",
              "      <th>1</th>\n",
              "      <td>1</td>\n",
              "      <td>3</td>\n",
              "      <td>4</td>\n",
              "      <td>What is the story of Kohinoor (Koh-i-Noor) Dia...</td>\n",
              "      <td>What would happen if the Indian government sto...</td>\n",
              "      <td>0</td>\n",
              "    </tr>\n",
              "    <tr>\n",
              "      <th>2</th>\n",
              "      <td>2</td>\n",
              "      <td>5</td>\n",
              "      <td>6</td>\n",
              "      <td>How can I increase the speed of my internet co...</td>\n",
              "      <td>How can Internet speed be increased by hacking...</td>\n",
              "      <td>0</td>\n",
              "    </tr>\n",
              "    <tr>\n",
              "      <th>3</th>\n",
              "      <td>3</td>\n",
              "      <td>7</td>\n",
              "      <td>8</td>\n",
              "      <td>Why am I mentally very lonely? How can I solve...</td>\n",
              "      <td>Find the remainder when [math]23^{24}[/math] i...</td>\n",
              "      <td>0</td>\n",
              "    </tr>\n",
              "    <tr>\n",
              "      <th>4</th>\n",
              "      <td>4</td>\n",
              "      <td>9</td>\n",
              "      <td>10</td>\n",
              "      <td>Which one dissolve in water quikly sugar, salt...</td>\n",
              "      <td>Which fish would survive in salt water?</td>\n",
              "      <td>0</td>\n",
              "    </tr>\n",
              "  </tbody>\n",
              "</table>\n",
              "</div>"
            ],
            "text/plain": [
              "   id  qid1  ...                                          question2 is_duplicate\n",
              "0   0     1  ...  What is the step by step guide to invest in sh...            0\n",
              "1   1     3  ...  What would happen if the Indian government sto...            0\n",
              "2   2     5  ...  How can Internet speed be increased by hacking...            0\n",
              "3   3     7  ...  Find the remainder when [math]23^{24}[/math] i...            0\n",
              "4   4     9  ...            Which fish would survive in salt water?            0\n",
              "\n",
              "[5 rows x 6 columns]"
            ]
          },
          "metadata": {
            "tags": []
          },
          "execution_count": 5
        }
      ]
    },
    {
      "cell_type": "markdown",
      "metadata": {
        "id": "ocqoT93O8rrv"
      },
      "source": [
        "### Model Building"
      ]
    },
    {
      "cell_type": "code",
      "metadata": {
        "colab": {
          "base_uri": "https://localhost:8080/"
        },
        "id": "MeYF9vrFIT3l",
        "outputId": "d5889be1-3146-477b-8f14-972c5ebfc2ab"
      },
      "source": [
        "#Model Archietecture\r\n",
        "\r\n",
        "#Input Layer\r\n",
        "input_layer_q1=Input((ques1_mx_length,),name='input_layer_q1')\r\n",
        "input_layer_q2=Input((ques2_mx_length,),name='input_layer_q2')\r\n",
        "\r\n",
        "#Embedding layer\r\n",
        "embedding_layer_q1=Embedding(vocab_size,100,input_length=ques1_mx_length,weights=[embedding_matrix],\r\n",
        "                             trainable=False,mask_zero=True)(input_layer_q1)\r\n",
        "embedding_layer_q2=Embedding(vocab_size,100,input_length=ques2_mx_length,weights=[embedding_matrix],\r\n",
        "                             trainable=False,mask_zero=True)(input_layer_q2) \r\n",
        "\r\n",
        "#Bidirectional LSTM\r\n",
        "bi_lstm=tf.keras.layers.Bidirectional(LSTM(64, name='lstm',kernel_initializer=tf.keras.initializers.glorot_uniform(seed=20),\r\n",
        "                 recurrent_initializer=tf.keras.initializers.orthogonal(seed=30)))\r\n",
        "bi_lstm_q1=bi_lstm(embedding_layer_q1)\r\n",
        "bi_lstm_q2=bi_lstm(embedding_layer_q2) \r\n",
        "\r\n",
        "func=lambda x: K.abs(x[0]-x[1])\r\n",
        "distance=Lambda(func)([bi_lstm_q1,bi_lstm_q2])\r\n",
        "\r\n",
        "#Output layer\r\n",
        "output=Dense(1,activation='sigmoid')(distance)\r\n",
        "\r\n",
        "model=Model(inputs=[input_layer_q1,input_layer_q2],outputs=[output])\r\n",
        "\r\n",
        "model.summary()\r\n",
        "\r\n",
        "\r\n"
      ],
      "execution_count": null,
      "outputs": [
        {
          "output_type": "stream",
          "text": [
            "Model: \"model_1\"\n",
            "__________________________________________________________________________________________________\n",
            "Layer (type)                    Output Shape         Param #     Connected to                     \n",
            "==================================================================================================\n",
            "input_layer_q1 (InputLayer)     [(None, 21)]         0                                            \n",
            "__________________________________________________________________________________________________\n",
            "input_layer_q2 (InputLayer)     [(None, 24)]         0                                            \n",
            "__________________________________________________________________________________________________\n",
            "embedding_2 (Embedding)         (None, 21, 100)      23063900    input_layer_q1[0][0]             \n",
            "__________________________________________________________________________________________________\n",
            "embedding_3 (Embedding)         (None, 24, 100)      23063900    input_layer_q2[0][0]             \n",
            "__________________________________________________________________________________________________\n",
            "bidirectional_1 (Bidirectional) (None, 128)          84480       embedding_2[0][0]                \n",
            "                                                                 embedding_3[0][0]                \n",
            "__________________________________________________________________________________________________\n",
            "lambda_1 (Lambda)               (None, 128)          0           bidirectional_1[0][0]            \n",
            "                                                                 bidirectional_1[1][0]            \n",
            "__________________________________________________________________________________________________\n",
            "dense_1 (Dense)                 (None, 1)            129         lambda_1[0][0]                   \n",
            "==================================================================================================\n",
            "Total params: 46,212,409\n",
            "Trainable params: 84,609\n",
            "Non-trainable params: 46,127,800\n",
            "__________________________________________________________________________________________________\n"
          ],
          "name": "stdout"
        }
      ]
    },
    {
      "cell_type": "code",
      "metadata": {
        "id": "SRbgc2woAWwf",
        "colab": {
          "base_uri": "https://localhost:8080/",
          "height": 524
        },
        "outputId": "9a88f21b-e808-45cc-bc15-e0f2356f4c7a"
      },
      "source": [
        "#Model archietecture with shapes\r\n",
        "tf.keras.utils.plot_model(model, 'Model.png',show_shapes=True)"
      ],
      "execution_count": null,
      "outputs": [
        {
          "output_type": "execute_result",
          "data": {
            "image/png": "[encoded data removed]",
            "text/plain": [
              "<IPython.core.display.Image object>"
            ]
          },
          "metadata": {
            "tags": []
          },
          "execution_count": 94
        }
      ]
    },
    {
      "cell_type": "code",
      "metadata": {
        "id": "uS9CXmp1PpTV"
      },
      "source": [
        "#Creating  directory for model and weights \n",
        "\n",
        "os.mkdir('/content/Model')\n",
        "os.mkdir('/content/model_save')"
      ],
      "execution_count": null,
      "outputs": []
    },
    {
      "cell_type": "code",
      "metadata": {
        "id": "WEbs5CKKD0Da"
      },
      "source": [
        "#Custom Performance metric: AUC value\r\n",
        "\r\n",
        "from sklearn.metrics import roc_auc_score\r\n",
        "\r\n",
        "def auc_value(y_true,y_pred):\r\n",
        "  try:\r\n",
        "    return tf.py_function(roc_auc_score,(y_true,y_pred),tf.float32)\r\n",
        "  except :\r\n",
        "    return 0"
      ],
      "execution_count": null,
      "outputs": []
    },
    {
      "cell_type": "code",
      "metadata": {
        "id": "TTVH30btPpTh",
        "colab": {
          "base_uri": "https://localhost:8080/"
        },
        "outputId": "561da970-787e-4872-9cc7-55d5f991b3ae"
      },
      "source": [
        "#Setting the parameters for TensorBoard\n",
        "from tensorflow.keras.callbacks import TensorBoard\n",
        "%load_ext tensorboard\n",
        "!rm -rf ./logs/ \n",
        "\n",
        "log_dir='/content/Model'\n",
        "tensorboard_callback = TensorBoard(log_dir=log_dir,histogram_freq=1, write_graph=True)"
      ],
      "execution_count": null,
      "outputs": [
        {
          "output_type": "stream",
          "text": [
            "The tensorboard extension is already loaded. To reload it, use:\n",
            "  %reload_ext tensorboard\n"
          ],
          "name": "stdout"
        }
      ]
    },
    {
      "cell_type": "code",
      "metadata": {
        "id": "vHyHWwEvPpTl"
      },
      "source": [
        "# Save  model at every epoch\n",
        "from tensorflow.keras.callbacks import ModelCheckpoint\n",
        "\n",
        "filepath=\"/content/model_save/weights-{epoch:02d}-{val_auc_value:.4f}.hdf5\"\n",
        "checkpoint = ModelCheckpoint(filepath=filepath, monitor='val_auc_value', verbose=1, save_best_only=True, mode='auto')"
      ],
      "execution_count": null,
      "outputs": []
    },
    {
      "cell_type": "code",
      "metadata": {
        "id": "ijNEhL9FPpTo"
      },
      "source": [
        "#Compiling the model\n",
        "model.compile(optimizer=tf.keras.optimizers.Adam(learning_rate=0.001),\n",
        "              loss='binary_crossentropy',metrics=[auc_value])"
      ],
      "execution_count": null,
      "outputs": []
    },
    {
      "cell_type": "code",
      "metadata": {
        "id": "ILM8SruHPpTr",
        "colab": {
          "base_uri": "https://localhost:8080/"
        },
        "outputId": "f8fd93ad-cd69-4bbe-f00e-e1e0b89ef986"
      },
      "source": [
        "#Fitting the model and running it for 10 epochs\n",
        "callback=[tensorboard_callback,checkpoint]\n",
        "model.fit([ques1_train,ques2_train],Y_train,batch_size=64,epochs=5,callbacks=callback,\n",
        "           validation_data=([ques1_val,ques2_val],Y_val))"
      ],
      "execution_count": null,
      "outputs": [
        {
          "output_type": "stream",
          "text": [
            "Epoch 1/5\n",
            "4296/4296 [==============================] - 326s 76ms/step - loss: 0.5202 - auc_value: 0.8017 - val_loss: 0.4384 - val_auc_value: 0.8641\n",
            "\n",
            "Epoch 00001: val_auc_value improved from inf to 0.86405, saving model to /content/model_save/weights-01-0.8641.hdf5\n",
            "Epoch 2/5\n",
            "4296/4296 [==============================] - 327s 76ms/step - loss: 0.4169 - auc_value: 0.8781 - val_loss: 0.4225 - val_auc_value: 0.8754\n",
            "\n",
            "Epoch 00002: val_auc_value did not improve from 0.86405\n",
            "Epoch 3/5\n",
            "4296/4296 [==============================] - 328s 76ms/step - loss: 0.3785 - auc_value: 0.9009 - val_loss: 0.4133 - val_auc_value: 0.8811\n",
            "\n",
            "Epoch 00003: val_auc_value did not improve from 0.86405\n",
            "Epoch 4/5\n",
            "4296/4296 [==============================] - 316s 74ms/step - loss: 0.3521 - auc_value: 0.9152 - val_loss: 0.4122 - val_auc_value: 0.8830\n",
            "\n",
            "Epoch 00004: val_auc_value did not improve from 0.86405\n",
            "Epoch 5/5\n",
            "4296/4296 [==============================] - 319s 74ms/step - loss: 0.3299 - auc_value: 0.9261 - val_loss: 0.4160 - val_auc_value: 0.8843\n",
            "\n",
            "Epoch 00005: val_auc_value did not improve from 0.86405\n"
          ],
          "name": "stdout"
        },
        {
          "output_type": "execute_result",
          "data": {
            "text/plain": [
              "<tensorflow.python.keras.callbacks.History at 0x7f8e70a2a9e8>"
            ]
          },
          "metadata": {
            "tags": []
          },
          "execution_count": 38
        }
      ]
    },
    {
      "cell_type": "code",
      "metadata": {
        "id": "_xmCLO_elccR"
      },
      "source": [
        "%tensorboard --logdir '/content/Model'"
      ],
      "execution_count": null,
      "outputs": []
    },
    {
      "cell_type": "markdown",
      "metadata": {
        "id": "-V0txbVJpFDM"
      },
      "source": [
        "The train loss and validation loss initially reduced but after epoch3, the validation loss flattened and train loss further reduced indicating overfitting.\r\n",
        "Hence, considering the model weights at the end of epoch 3."
      ]
    },
    {
      "cell_type": "markdown",
      "metadata": {
        "id": "6u-KNYkZNxrj"
      },
      "source": [
        "### Evaluation\r\n"
      ]
    },
    {
      "cell_type": "code",
      "metadata": {
        "colab": {
          "base_uri": "https://localhost:8080/",
          "height": 295
        },
        "id": "vmiGuvu7G6eJ",
        "outputId": "1c273311-fb7e-41ee-d425-d0b2e1efa25e"
      },
      "source": [
        "#Plot AUC curve\r\n",
        "from sklearn.metrics import roc_curve,auc\r\n",
        "\r\n",
        "y_train_pred = model.predict([ques1_train,ques2_train])\r\n",
        "y_val_pred = model.predict([ques1_val,ques2_val])\r\n",
        "\r\n",
        "train_fpr, train_tpr, tr_thresholds = roc_curve(Y_train, y_train_pred)\r\n",
        "val_fpr, val_tpr, val_thresholds = roc_curve(Y_val, y_val_pred)\r\n",
        "\r\n",
        "plt.plot(train_fpr, train_tpr, label=\"train AUC =\"+str(auc(train_fpr, train_tpr)))\r\n",
        "plt.plot(val_fpr, val_tpr, label=\"test AUC =\"+str(auc(val_fpr, val_tpr)))\r\n",
        "plt.plot([0,1],[0,1])\r\n",
        "plt.legend()\r\n",
        "plt.xlabel(\"FPR\")\r\n",
        "plt.ylabel(\"TPR\")\r\n",
        "plt.title(\"ROC curve\")\r\n",
        "plt.grid()\r\n",
        "plt.show()"
      ],
      "execution_count": null,
      "outputs": [
        {
          "output_type": "display_data",
          "data": {
            "image/png": "[encoded data removed]",
            "text/plain": [
              "<Figure size 432x288 with 1 Axes>"
            ]
          },
          "metadata": {
            "tags": [],
            "needs_background": "light"
          }
        }
      ]
    },
    {
      "cell_type": "code",
      "metadata": {
        "id": "8sfdtH04Ieak"
      },
      "source": [
        "#Finding the best threshold\r\n",
        "def find_best_threshold(threshold, fpr, tpr):\r\n",
        "    t = threshold[np.argmax(tpr*(1-fpr))]    \r\n",
        "    print(\"The maximum value of tpr*(1-fpr) is \", max(tpr*(1-fpr)), \"for threshold\", np.round(t,3))\r\n",
        "    return t\r\n",
        "\r\n",
        "#Converting probabilities to predicted values\r\n",
        "def predict_with_best_t(proba, threshold):\r\n",
        "    predictions = []\r\n",
        "    for i in proba:\r\n",
        "        if i>=threshold:\r\n",
        "            predictions.append(1)\r\n",
        "        else:\r\n",
        "            predictions.append(0)\r\n",
        "    return predictions"
      ],
      "execution_count": null,
      "outputs": []
    },
    {
      "cell_type": "code",
      "metadata": {
        "colab": {
          "base_uri": "https://localhost:8080/"
        },
        "id": "LUUz_A-CIoqP",
        "outputId": "ffeee2c7-fe86-4ae1-dcf6-952e4025d531"
      },
      "source": [
        "#Printing the confusion matrix\r\n",
        "from sklearn.metrics import confusion_matrix\r\n",
        "\r\n",
        "best_t = find_best_threshold(tr_thresholds, train_fpr, train_tpr)\r\n",
        "\r\n",
        "print(\"Train confusion matrix\")\r\n",
        "print(confusion_matrix(Y_train, predict_with_best_t(y_train_pred, best_t)))\r\n",
        "\r\n",
        "print(\"Val confusion matrix\")\r\n",
        "print(confusion_matrix(Y_val, predict_with_best_t(y_val_pred, best_t)))"
      ],
      "execution_count": null,
      "outputs": [
        {
          "output_type": "stream",
          "text": [
            "The maximum value of tpr*(1-fpr) is  0.7874456042677307 for threshold 0.383\n",
            "Train confusion matrix\n",
            "[[149445  23971]\n",
            " [  8754  92744]]\n",
            "Val confusion matrix\n",
            "[[30488  7766]\n",
            " [ 4418 17972]]\n"
          ],
          "name": "stdout"
        }
      ]
    },
    {
      "cell_type": "markdown",
      "metadata": {
        "id": "za--WHn-gyyt"
      },
      "source": [
        "The best threshold value is 0.383. If the prbability is greater than 0.383, the questions are similar"
      ]
    },
    {
      "cell_type": "code",
      "metadata": {
        "colab": {
          "base_uri": "https://localhost:8080/"
        },
        "id": "iip6HB_lPTRM",
        "outputId": "ededba4e-8b2b-48b7-d851-c0431f3958c9"
      },
      "source": [
        "#Printing Precision,Recall and F1-score\r\n",
        "\r\n",
        "from sklearn.metrics import classification_report\r\n",
        "\r\n",
        "print('Train Data')\r\n",
        "print(classification_report(Y_train, predict_with_best_t(y_train_pred, best_t)))\r\n",
        "\r\n",
        "print('Validation Data')\r\n",
        "print(classification_report(Y_val, predict_with_best_t(y_val_pred, best_t)))"
      ],
      "execution_count": null,
      "outputs": [
        {
          "output_type": "stream",
          "text": [
            "Train Data\n",
            "              precision    recall  f1-score   support\n",
            "\n",
            "           0       0.94      0.86      0.90    173416\n",
            "           1       0.79      0.91      0.85    101498\n",
            "\n",
            "    accuracy                           0.88    274914\n",
            "   macro avg       0.87      0.89      0.88    274914\n",
            "weighted avg       0.89      0.88      0.88    274914\n",
            "\n",
            "Validation Data\n",
            "              precision    recall  f1-score   support\n",
            "\n",
            "           0       0.87      0.80      0.83     38254\n",
            "           1       0.70      0.80      0.75     22390\n",
            "\n",
            "    accuracy                           0.80     60644\n",
            "   macro avg       0.79      0.80      0.79     60644\n",
            "weighted avg       0.81      0.80      0.80     60644\n",
            "\n"
          ],
          "name": "stdout"
        }
      ]
    },
    {
      "cell_type": "code",
      "metadata": {
        "id": "LrpO9W5Wymvq"
      },
      "source": [
        "#Saving the model\r\n",
        "model.save('/content/model')\r\n",
        "!zip -r '/content/model.zip' '/content/model'"
      ],
      "execution_count": null,
      "outputs": []
    },
    {
      "cell_type": "code",
      "metadata": {
        "id": "cQ7y0baiiQSZ"
      },
      "source": [
        "#Saving the tokenizer as pickle file\r\n",
        "with open('tokenizer.pickle', 'wb') as f:\r\n",
        "    pickle.dump(tokenizer, f)"
      ],
      "execution_count": null,
      "outputs": []
    },
    {
      "cell_type": "markdown",
      "metadata": {
        "id": "kY__DYDISL4l"
      },
      "source": [
        "### Test data\r\n"
      ]
    },
    {
      "cell_type": "code",
      "metadata": {
        "id": "cz5gWCJXLE7Q"
      },
      "source": [
        "#Loading the saved model\r\n",
        "model=tf.keras.models.load_model('/content/data/content/model',custom_objects={'auc_value':auc_value}, compile=False)"
      ],
      "execution_count": null,
      "outputs": []
    },
    {
      "cell_type": "code",
      "metadata": {
        "colab": {
          "base_uri": "https://localhost:8080/"
        },
        "id": "Z89APUY6SOaN",
        "outputId": "ab8dccd0-1bdd-4f8a-ba05-39ed28f4a12d"
      },
      "source": [
        "#Performance evaluation on hold out test data\r\n",
        "print('The shape of X_test data',X_test.shape)\r\n",
        "print('The shape of Y_test data',Y_test.shape)\r\n",
        "\r\n",
        "ques1_mx_length=21\r\n",
        "ques2_mx_length=24\r\n",
        "\r\n",
        "ques1_test = tokenizer.texts_to_sequences(X_test['question1'])\r\n",
        "ques2_test = tokenizer.texts_to_sequences(X_test['question2'])\r\n",
        "\r\n",
        "ques1_test = tf.keras.preprocessing.sequence.pad_sequences(ques1_test,padding='post',maxlen=ques1_mx_length)\r\n",
        "ques2_test = tf.keras.preprocessing.sequence.pad_sequences(ques2_test,padding='post',maxlen=ques2_mx_length)\r\n",
        "\r\n",
        "y_test_pred = model.predict([ques1_test,ques2_test])\r\n",
        "\r\n",
        "print(\"Test confusion matrix\")\r\n",
        "print(confusion_matrix(Y_test, predict_with_best_t(y_test_pred, best_t)))\r\n",
        "\r\n",
        "print('Test Data Classification report')\r\n",
        "print(classification_report(Y_test, predict_with_best_t(y_test_pred, best_t)))"
      ],
      "execution_count": null,
      "outputs": [
        {
          "output_type": "stream",
          "text": [
            "The shape of X_test data (68729, 2)\n",
            "The shape of Y_test data (68729,)\n",
            "Test confusion matrix\n",
            "[[34510  8844]\n",
            " [ 4986 20389]]\n",
            "Test Data Classification report\n",
            "              precision    recall  f1-score   support\n",
            "\n",
            "           0       0.87      0.80      0.83     43354\n",
            "           1       0.70      0.80      0.75     25375\n",
            "\n",
            "    accuracy                           0.80     68729\n",
            "   macro avg       0.79      0.80      0.79     68729\n",
            "weighted avg       0.81      0.80      0.80     68729\n",
            "\n"
          ],
          "name": "stdout"
        }
      ]
    },
    {
      "cell_type": "markdown",
      "metadata": {
        "id": "IXxAHiAQhc2o"
      },
      "source": [
        "The model has overall accuracy of 0.8 with high precision and recall"
      ]
    }
  ]
}